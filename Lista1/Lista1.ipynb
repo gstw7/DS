{
 "cells": [
  {
   "cell_type": "markdown",
   "source": [
    "## Lista 1\n",
    "### Professor: Bruno Pimentel\n",
    "### Aluno: Gustavo de Melo Oliveira"
   ],
   "metadata": {}
  },
  {
   "cell_type": "markdown",
   "source": [
    "1. Qual a diferença entre Big Data e Ciência de Dados? (0,5 ponto)"
   ],
   "metadata": {}
  },
  {
   "cell_type": "markdown",
   "source": [
    "    Big data: Grande volume de dados.\n",
    "    Ciência de Dados: Lida com criação de soluções a partir de big data."
   ],
   "metadata": {}
  },
  {
   "cell_type": "markdown",
   "source": [
    "2. De que forma Estatística, Mineração de Dados e Aprendizagem de Máquina interagem com Ciência de Dados? (1 ponto)"
   ],
   "metadata": {}
  },
  {
   "cell_type": "markdown",
   "source": [
    "    Todo o fluxo desde a aquisição de dados, limpeza de dados, transformações, aprendizado de máquina e utilização de métodos estatístico podemos dizer que é mineração de dados, a ciência de dados utiliza de todas as técnicas de mineração para gerar algum valor e tomar decisões."
   ],
   "metadata": {}
  },
  {
   "cell_type": "markdown",
   "source": [
    "3. Mostre a importância do conhecimento de domínio para o cientista de dados. (0,5 ponto)"
   ],
   "metadata": {}
  },
  {
   "cell_type": "markdown",
   "source": [
    "    Além de todo o conhecimento que um Cientista de Dados tem, no mercado de trabalho deve possuir o conhecimento do négocio da empresa que atua para conseguir gerar valor com os seus dados. "
   ],
   "metadata": {}
  },
  {
   "cell_type": "markdown",
   "source": [
    "4. Crie um conjunto de dados com duas variáveis V1 e V2, tal que:\n",
    "    - Mediana de V1 < Média de V1 (0,5 ponto)\n",
    "    - Mediana de V2 > Média de V2 (0,5 ponto)"
   ],
   "metadata": {}
  },
  {
   "cell_type": "code",
   "execution_count": 1,
   "source": [
    "import numpy as np\r\n",
    "\r\n",
    "SEED = 5\r\n",
    "np.random.seed(SEED)\r\n",
    "\r\n",
    "array1 = np.random.randint(2, 60, 500)    \r\n",
    "array2 = np.random.randint(2, 20, 500)\r\n",
    "v1 = np.concatenate((array1, array2))\r\n",
    "\r\n",
    "array1 = np.random.randint(1, 10, 500)\r\n",
    "array2 = np.random.randint(9, 10, 500)\r\n",
    "v2 = np.concatenate((array1, array2))\r\n",
    "\r\n",
    "dict_ = {\r\n",
    "    'V1': v1,\r\n",
    "    'V2': v2\r\n",
    "}\r\n",
    "\r\n",
    "print('V1\\n\\nmean: {mean}\\nmedian: {median}\\n'\\\r\n",
    "      .format(mean = np.mean(dict_['V1']), \r\n",
    "              median = np.median(dict_['V1'])\r\n",
    "             )\r\n",
    "     )\r\n",
    "print('V2\\n\\nmean: {mean}\\nmedian: {median}\\n'\\\r\n",
    "      .format(mean = np.mean(dict_['V2']), \r\n",
    "              median = np.median(dict_['V2'])\r\n",
    "             )\r\n",
    "     )"
   ],
   "outputs": [
    {
     "output_type": "stream",
     "name": "stdout",
     "text": [
      "V1\n",
      "\n",
      "mean: 19.787\n",
      "median: 15.0\n",
      "\n",
      "V2\n",
      "\n",
      "mean: 6.934\n",
      "median: 9.0\n",
      "\n"
     ]
    }
   ],
   "metadata": {}
  },
  {
   "cell_type": "markdown",
   "source": [
    "5. Baseando-se no conjunto de dados criado na questão 4, crie uma função em Python que:\n",
    "    - Mostra o histograma de cada variável; (1 ponto)\n",
    "    - Verifica se as variáveis seguem uma distribuição Normal (use teste de hipótese) (1 ponto)"
   ],
   "metadata": {}
  },
  {
   "cell_type": "code",
   "execution_count": 4,
   "source": [
    "import matplotlib.pyplot as plt\r\n",
    "from scipy.stats import shapiro\r\n",
    "import seaborn as sns\r\n",
    "\r\n",
    "def function_1(df):\r\n",
    "    \r\n",
    "    \r\n",
    "    fig, axs = plt.subplots(1, 2, figsize=(15,5))\r\n",
    "\r\n",
    "    sns.histplot(df['V1'], ax= axs[0], kde=True, color='g')\r\n",
    "    axs[0].grid(True)\r\n",
    "    axs[0].set_title('V1')\r\n",
    "\r\n",
    "    sns.histplot(df['V2'], ax= axs[1], kde=True, color='r')\r\n",
    "    axs[1].grid(True)\r\n",
    "    axs[1].set_title('V2')\r\n",
    "    \r\n",
    "    print('\\nHipóteses')\r\n",
    "    print('H0: Os dados seguem uma distruibção normal.')\r\n",
    "    print('H1: Os dados não seguem uma distruição normal.')\r\n",
    "    print('*********************************************\\n')\r\n",
    "    \r\n",
    "    conf = 0.05\r\n",
    "    print('Com 95% de confiança:\\n')\r\n",
    "    \r\n",
    "    _, pvalue = shapiro(df['V1'])\r\n",
    "    if pvalue > conf:\r\n",
    "        print('\\nVariável V1:\\n\\nA amostra segue uma distribuição normal.\\n')\r\n",
    "    else:\r\n",
    "        print('\\nVariável V1:\\n\\nA amostra não segue uma distribuição normal.\\n')\r\n",
    "    \r\n",
    "    _, pvalue = shapiro(df['V2'])\r\n",
    "    if pvalue > conf:\r\n",
    "        print('\\nVariável V2:\\n\\nA amostra segue uma distribuição normal.\\n')\r\n",
    "    else:\r\n",
    "        print('\\nVariável V2:\\n\\nA amostra não segue uma distribuição normal.\\n')\r\n",
    "        \r\n",
    "function_1(dict_)"
   ],
   "outputs": [
    {
     "output_type": "stream",
     "name": "stdout",
     "text": [
      "\n",
      "Hipóteses\n",
      "H0: Os dados seguem uma distruibção normal.\n",
      "H1: Os dados não seguem uma distruição normal.\n",
      "*********************************************\n",
      "\n",
      "Com 95% de confiança:\n",
      "\n",
      "\n",
      "Variável V1:\n",
      "\n",
      "A amostra não segue uma distribuição normal.\n",
      "\n",
      "\n",
      "Variável V2:\n",
      "\n",
      "A amostra não segue uma distribuição normal.\n",
      "\n"
     ]
    },
    {
     "output_type": "display_data",
     "data": {
      "text/plain": [
       "<Figure size 1080x360 with 2 Axes>"
      ],
      "image/png": "[encoded data removed]"
     },
     "metadata": {
      "needs_background": "light"
     }
    }
   ],
   "metadata": {}
  },
  {
   "cell_type": "markdown",
   "source": [
    "6. Cite 2 técnicas para remoção de ruídos e, para cada uma, mostre uma vantagem e uma desvantagem. (1 ponto)"
   ],
   "metadata": {}
  },
  {
   "cell_type": "markdown",
   "source": [
    "    Z-Score:\r\n",
    "        Prós: Método muito eficaz uando consegue descrever que as variáveis segue uma distribuição gaussiana. (Paramétrico)\r\n",
    "        Contra: Conveniente usar somente quando se possui uma baixa dimensionalidade e em conjuntos de dados de pequenos a médio porte.\r\n",
    "    Clusterização (DBSCAN):\r\n",
    "        Prós: Alta eficiencias quando não conseguimos assumir a distribuição das variáveis.\r\n",
    "        Contra: Modelo não supervisionado e precisa ser recalibrado cada vez que um novo lote de dados é adicionado."
   ],
   "metadata": {}
  },
  {
   "cell_type": "markdown",
   "source": [
    "Utilizando clusterização:"
   ],
   "metadata": {}
  },
  {
   "cell_type": "markdown",
   "source": [
    "7. Qual é a importância de utilizar as seguintes abordagens de redução de dados no contexto de Ciência dos Dados?\n",
    "    - Redução de dimensionalidade (0,5 ponto)\n",
    "    - Redução de numerosidade (0,5 ponto)"
   ],
   "metadata": {}
  },
  {
   "cell_type": "markdown",
   "source": [
    "    Redução de dimensionalidade: Evitamos overfitting, aumento do desempenho do modelo, menor tempo de treinamento, conseguimos reduzir os ruídos dos dados.\r\n",
    "    \r\n",
    "    Redução de numerosidade: Alternativa de respresentação para dados menores, conseguimos representar de forma paramétrica, quando temos um parametro para representar nosso dado ou não paramétrica com agrupamento e amostragem."
   ],
   "metadata": {}
  },
  {
   "cell_type": "markdown",
   "source": [
    "8. De que forma pode-se detectar overfitting em um classificador? (0,5 ponto)"
   ],
   "metadata": {}
  },
  {
   "cell_type": "markdown",
   "source": [
    "    Quando o modelo consegue prever ou se ajustar muito bem os dados que foram usados para treiná-lo, mas ele não consegue generalizar com dados que nunca foram vistos. Temos um trade-off entre viés e variância, onde a variância aumenta e o viés cai constatemente."
   ],
   "metadata": {}
  },
  {
   "cell_type": "markdown",
   "source": [
    "9. Em quais tipos de problemas é preferível utilizar leave-one-out a utilizar  K-fold cross-validation? (0,5 ponto)"
   ],
   "metadata": {}
  },
  {
   "cell_type": "markdown",
   "source": [
    "    Leave-one-out: Preferivél para conjuntos de dados pequenos, pois k equivale a quantidade de dados, tendo assim um alto custo computacional.\n",
    "    \n",
    "    K-fold cross-validation: Divide os dados em k - sub conjuntos, preferível para conjuntos de dados maiores. "
   ],
   "metadata": {}
  },
  {
   "cell_type": "markdown",
   "source": [
    "10. Crie um script em Python que avalie a diferença de desempenho do classificador K-NN e Naive Bayes para o conjunto de dados Iris (https://archive.ics.uci.edu/ml/datasets/iris). Use F-measure e K-fold cross-validation. (2 pontos)"
   ],
   "metadata": {}
  },
  {
   "cell_type": "code",
   "execution_count": 7,
   "source": [
    "import pandas as pd\r\n",
    "from tqdm import tqdm\r\n",
    "from sklearn.naive_bayes import GaussianNB\r\n",
    "from sklearn.neighbors import KNeighborsClassifier\r\n",
    "from sklearn.model_selection import KFold, cross_validate, cross_val_score"
   ],
   "outputs": [],
   "metadata": {}
  },
  {
   "cell_type": "code",
   "execution_count": 8,
   "source": [
    "df = pd.read_csv(\"https://archive.ics.uci.edu/ml/machine-learning-databases/iris/iris.data\", header=None)"
   ],
   "outputs": [],
   "metadata": {}
  },
  {
   "cell_type": "code",
   "execution_count": 9,
   "source": [
    "models = [\r\n",
    "          ('NayveBayes', GaussianNB()),\r\n",
    "          ('KNN', KNeighborsClassifier())\r\n",
    "          ]"
   ],
   "outputs": [],
   "metadata": {}
  },
  {
   "cell_type": "code",
   "execution_count": 10,
   "source": [
    "original = pd.DataFrame()\r\n",
    "\r\n",
    "for name, model in tqdm(models):\r\n",
    "    \r\n",
    "\r\n",
    "    kfold = KFold(n_splits=10, random_state=SEED, shuffle=True)\r\n",
    "    score = cross_validate(model, df.iloc[:,:4], df.iloc[:,-1], cv=kfold, scoring=['f1_micro'], return_train_score=True)        \r\n",
    "    additional = pd.DataFrame({\r\n",
    "        'f1_train':np.mean(score['train_f1_micro']),\r\n",
    "        'f1_test':np.mean(score['test_f1_micro']),\r\n",
    "    }, index=[name])\r\n",
    "\r\n",
    "    new = pd.concat([original, additional], axis=0)\r\n",
    "    original = new"
   ],
   "outputs": [
    {
     "output_type": "stream",
     "name": "stderr",
     "text": [
      "100%|██████████| 2/2 [00:00<00:00,  4.62it/s]\n"
     ]
    }
   ],
   "metadata": {}
  },
  {
   "cell_type": "code",
   "execution_count": 11,
   "source": [
    "original"
   ],
   "outputs": [
    {
     "output_type": "execute_result",
     "data": {
      "text/plain": [
       "            f1_train   f1_test\n",
       "NayveBayes   0.96000  0.953333\n",
       "KNN          0.96963  0.960000"
      ],
      "text/html": [
       "<div>\n",
       "<style scoped>\n",
       "    .dataframe tbody tr th:only-of-type {\n",
       "        vertical-align: middle;\n",
       "    }\n",
       "\n",
       "    .dataframe tbody tr th {\n",
       "        vertical-align: top;\n",
       "    }\n",
       "\n",
       "    .dataframe thead th {\n",
       "        text-align: right;\n",
       "    }\n",
       "</style>\n",
       "<table border=\"1\" class=\"dataframe\">\n",
       "  <thead>\n",
       "    <tr style=\"text-align: right;\">\n",
       "      <th></th>\n",
       "      <th>f1_train</th>\n",
       "      <th>f1_test</th>\n",
       "    </tr>\n",
       "  </thead>\n",
       "  <tbody>\n",
       "    <tr>\n",
       "      <th>NayveBayes</th>\n",
       "      <td>0.96000</td>\n",
       "      <td>0.953333</td>\n",
       "    </tr>\n",
       "    <tr>\n",
       "      <th>KNN</th>\n",
       "      <td>0.96963</td>\n",
       "      <td>0.960000</td>\n",
       "    </tr>\n",
       "  </tbody>\n",
       "</table>\n",
       "</div>"
      ]
     },
     "metadata": {},
     "execution_count": 11
    }
   ],
   "metadata": {}
  },
  {
   "cell_type": "code",
   "execution_count": 12,
   "source": [
    "results = []\r\n",
    "names = []\r\n",
    "\r\n",
    "for name, model in tqdm(models):\r\n",
    "    cv_results = cross_val_score(model, df.iloc[:,:4], df.iloc[:,-1], cv=kfold, scoring=('f1_micro'))\r\n",
    "    results.append(cv_results)\r\n",
    "    names.append(name)\r\n",
    "\r\n",
    "fig = plt.figure(figsize=(12,6))\r\n",
    "fig.suptitle('Comparação entre Modelos - F1-Score')\r\n",
    "ax = fig.add_subplot(111)\r\n",
    "plt.boxplot(results)\r\n",
    "ax.set_xticklabels(names)\r\n",
    "plt.ylabel('f1 score')\r\n",
    "plt.xticks(rotation=45)\r\n",
    "plt.grid(b=False)\r\n",
    "plt.show()"
   ],
   "outputs": [
    {
     "output_type": "stream",
     "name": "stderr",
     "text": [
      "100%|██████████| 2/2 [00:00<00:00,  9.80it/s]\n"
     ]
    },
    {
     "output_type": "display_data",
     "data": {
      "text/plain": [
       "<Figure size 864x432 with 1 Axes>"
      ],
      "image/png": "[encoded data removed]"
     },
     "metadata": {
      "needs_background": "light"
     }
    }
   ],
   "metadata": {}
  },
  {
   "cell_type": "code",
   "execution_count": null,
   "source": [],
   "outputs": [],
   "metadata": {}
  }
 ],
 "metadata": {
  "kernelspec": {
   "name": "python3",
   "display_name": "Python 3.7.10 64-bit ('mestrado': conda)"
  },
  "language_info": {
   "codemirror_mode": {
    "name": "ipython",
    "version": 3
   },
   "file_extension": ".py",
   "mimetype": "text/x-python",
   "name": "python",
   "nbconvert_exporter": "python",
   "pygments_lexer": "ipython3",
   "version": "3.7.10"
  },
  "interpreter": {
   "hash": "6ec762ab454e4f48e170bc0b021df7bf79995e377133458630c4f4b3aa234d44"
  }
 },
 "nbformat": 4,
 "nbformat_minor": 4
}